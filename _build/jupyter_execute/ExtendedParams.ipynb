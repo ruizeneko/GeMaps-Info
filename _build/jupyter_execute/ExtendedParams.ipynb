{
 "cells": [
  {
   "cell_type": "markdown",
   "id": "675a90f5",
   "metadata": {},
   "source": [
    "Extended Set - Spectral parameters\n",
    "=============\n",
    "****************"
   ]
  },
  {
   "cell_type": "markdown",
   "id": "0ac7f088",
   "metadata": {},
   "source": [
    "Now, spectral parameters are going to be introduced. There are 6 parameters:\n",
    "* MFCC 1-4\n",
    "* Spectral Flux"
   ]
  },
  {
   "cell_type": "markdown",
   "id": "edafbe82",
   "metadata": {},
   "source": [
    "MFCC 1-4\n",
    "-------------\n",
    "****************\n",
    "They are the Mel-Frequency Cepstral Coefficients 1–4. The first four Mel-Frequency Cepstral Coefficients (MFCC) (1–4) are computed from a 26-band power Mel-spectrum (20–8000 Hz). In contrast to all other descriptors, the audio samples are not normalised to $[−1, +1]$, but to the range of a signed 16-bit integer. Liftering of the cepstral coefficients with L = 22 is performed.\n",
    "\n",
    "With PRAAT, they can be easily be calculated:"
   ]
  },
  {
   "cell_type": "code",
   "execution_count": 1,
   "id": "2dcc36d5",
   "metadata": {},
   "outputs": [],
   "source": [
    "import os\n",
    "import parselmouth \n",
    "from parselmouth.praat import call\n",
    "import opensmile\n",
    "import audiofile\n",
    "\n",
    "# We load the audio into ParselMouth\n",
    "dir_audio = os.path.join(\"/home\", \"enekoehu\", \"Trabajo\", \"HAZITEK\", \"Documentos\", \"Emphasis\", \"sensación_enfado_1_5942331367283039919_1_46.wav\")\n",
    "sound = parselmouth.Sound(dir_audio)"
   ]
  },
  {
   "cell_type": "code",
   "execution_count": 2,
   "id": "7bd7a1d8",
   "metadata": {},
   "outputs": [
    {
     "name": "stdout",
     "output_type": "stream",
     "text": [
      "27.760001353387945\n",
      "-70.1493890393256\n",
      "-13.148073135698429\n",
      "-28.808535156189187\n"
     ]
    }
   ],
   "source": [
    "# MFCC 1-4 with PRAAT\n",
    "number_coefficient = 4\n",
    "windows_length = 0.015\n",
    "time_step = 0.005\n",
    "\n",
    "fisrt_filter_f = 100.0\n",
    "distance_between_filters = 100.0\n",
    "max_f = 0.0\n",
    "\n",
    "mfcc = call(sound, \"To MFCC\", number_coefficient, windows_length, time_step, fisrt_filter_f, distance_between_filters, max_f)\n",
    "\n",
    "frame_number = 25.0\n",
    "index = 1\n",
    "\n",
    "MFCC1 = call(mfcc, \"Get value in frame\", frame_number, 1)\n",
    "MFCC2 = call(mfcc, \"Get value in frame\", frame_number, 2)\n",
    "MFCC3 = call(mfcc, \"Get value in frame\", frame_number, 3)\n",
    "MFCC4 = call(mfcc, \"Get value in frame\", frame_number, 4)\n",
    "\n",
    "print(MFCC1)\n",
    "print(MFCC2)\n",
    "print(MFCC3)\n",
    "print(MFCC4)"
   ]
  },
  {
   "cell_type": "code",
   "execution_count": 3,
   "id": "ba90940b",
   "metadata": {},
   "outputs": [
    {
     "name": "stdout",
     "output_type": "stream",
     "text": [
      "start                   end                   \n",
      "0 days 00:00:00         0 days 00:00:00.020000     0.000000\n",
      "0 days 00:00:00.010000  0 days 00:00:00.030000     0.000000\n",
      "0 days 00:00:00.020000  0 days 00:00:00.040000     0.000000\n",
      "0 days 00:00:00.030000  0 days 00:00:00.050000     0.000000\n",
      "0 days 00:00:00.040000  0 days 00:00:00.060000     0.000000\n",
      "                                                    ...    \n",
      "0 days 00:00:09.910000  0 days 00:00:09.930000    19.647364\n",
      "0 days 00:00:09.920000  0 days 00:00:09.940000    18.562113\n",
      "0 days 00:00:09.930000  0 days 00:00:09.950000    18.503046\n",
      "0 days 00:00:09.940000  0 days 00:00:09.960000    15.224789\n",
      "0 days 00:00:09.950000  0 days 00:00:10           13.001068\n",
      "Name: mfcc1_sma3, Length: 996, dtype: float32\n",
      "\n",
      "\n",
      "start                   end                   \n",
      "0 days 00:00:00         0 days 00:00:00.020000     0.000000\n",
      "0 days 00:00:00.010000  0 days 00:00:00.030000     0.000000\n",
      "0 days 00:00:00.020000  0 days 00:00:00.040000     0.000000\n",
      "0 days 00:00:00.030000  0 days 00:00:00.050000     0.000000\n",
      "0 days 00:00:00.040000  0 days 00:00:00.060000     0.000000\n",
      "                                                    ...    \n",
      "0 days 00:00:09.910000  0 days 00:00:09.930000    28.034103\n",
      "0 days 00:00:09.920000  0 days 00:00:09.940000    28.037252\n",
      "0 days 00:00:09.930000  0 days 00:00:09.950000    28.323248\n",
      "0 days 00:00:09.940000  0 days 00:00:09.960000    31.951502\n",
      "0 days 00:00:09.950000  0 days 00:00:10           34.636784\n",
      "Name: mfcc2_sma3, Length: 996, dtype: float32\n",
      "\n",
      "\n"
     ]
    },
    {
     "name": "stdout",
     "output_type": "stream",
     "text": [
      "start                   end                   \n",
      "0 days 00:00:00         0 days 00:00:00.020000     0.000000\n",
      "0 days 00:00:00.010000  0 days 00:00:00.030000     0.000000\n",
      "0 days 00:00:00.020000  0 days 00:00:00.040000     0.000000\n",
      "0 days 00:00:00.030000  0 days 00:00:00.050000     0.000000\n",
      "0 days 00:00:00.040000  0 days 00:00:00.060000     0.000000\n",
      "                                                    ...    \n",
      "0 days 00:00:09.910000  0 days 00:00:09.930000    23.190878\n",
      "0 days 00:00:09.920000  0 days 00:00:09.940000    20.794889\n",
      "0 days 00:00:09.930000  0 days 00:00:09.950000    16.729128\n",
      "0 days 00:00:09.940000  0 days 00:00:09.960000     9.158888\n",
      "0 days 00:00:09.950000  0 days 00:00:10            3.331190\n",
      "Name: mfcc3_sma3, Length: 996, dtype: float32\n",
      "\n",
      "\n",
      "start                   end                   \n",
      "0 days 00:00:00         0 days 00:00:00.020000     0.000000\n",
      "0 days 00:00:00.010000  0 days 00:00:00.030000     0.000000\n",
      "0 days 00:00:00.020000  0 days 00:00:00.040000     0.000000\n",
      "0 days 00:00:00.030000  0 days 00:00:00.050000     0.000000\n",
      "0 days 00:00:00.040000  0 days 00:00:00.060000     0.000000\n",
      "                                                    ...    \n",
      "0 days 00:00:09.910000  0 days 00:00:09.930000   -52.220657\n",
      "0 days 00:00:09.920000  0 days 00:00:09.940000   -48.279102\n",
      "0 days 00:00:09.930000  0 days 00:00:09.950000   -47.414539\n",
      "0 days 00:00:09.940000  0 days 00:00:09.960000   -43.513371\n",
      "0 days 00:00:09.950000  0 days 00:00:10          -47.688751\n",
      "Name: mfcc4_sma3, Length: 996, dtype: float32\n"
     ]
    }
   ],
   "source": [
    "# MFCC 1-4 with OpenSmile\n",
    "signal, sampling_rate = audiofile.read(\n",
    "    dir_audio,\n",
    "    duration=10,\n",
    "    always_2d=True,\n",
    ")\n",
    "smile = opensmile.Smile(\n",
    "    feature_set=opensmile.FeatureSet.eGeMAPSv02,\n",
    "    feature_level=opensmile.FeatureLevel.LowLevelDescriptors,\n",
    ")\n",
    "\n",
    "print(smile.process_signal(\n",
    "    signal,\n",
    "    sampling_rate\n",
    ")[\"mfcc1_sma3\"])\n",
    "print(\"\\n\")\n",
    "\n",
    "print(smile.process_signal(\n",
    "    signal,\n",
    "    sampling_rate\n",
    ")[\"mfcc2_sma3\"])\n",
    "print(\"\\n\")\n",
    "\n",
    "print(smile.process_signal(\n",
    "    signal,\n",
    "    sampling_rate\n",
    ")[\"mfcc3_sma3\"])\n",
    "print(\"\\n\")\n",
    "\n",
    "print(smile.process_signal(\n",
    "    signal,\n",
    "    sampling_rate\n",
    ")[\"mfcc4_sma3\"])"
   ]
  },
  {
   "cell_type": "markdown",
   "id": "2d0267c1",
   "metadata": {},
   "source": [
    "Spectral Flux\n",
    "-------------\n",
    "****************\n",
    "The spectral flux $S_f$ lux represents a quadratic, normalised version of the simple spectral difference, i. e., the bin-wise difference between the spectra of two consecutive speech frames. The definition of the unnormalised spectral flux for frame k and magnitude spectra $X(m)$ is as follows:\n",
    "\n",
    "$$ S_{flux}^{(k)} = \\sum_{m = m_l}^{m_u} (X^{(k)}(m) - X^{(k - 1)}(m) )^2 $$\n",
    "\n",
    "At the above formula, $m_l$ and $m_u$ are the lower and upper bin indices of the spectral range to be considered for spectral flux computation. Here, they are set such that the spectral range is set to $0-5000 Hz$."
   ]
  },
  {
   "cell_type": "code",
   "execution_count": 4,
   "id": "3b2590e1",
   "metadata": {},
   "outputs": [
    {
     "data": {
      "text/plain": [
       "start                   end                   \n",
       "0 days 00:00:00         0 days 00:00:00.020000    0.000000\n",
       "0 days 00:00:00.010000  0 days 00:00:00.030000    0.000000\n",
       "0 days 00:00:00.020000  0 days 00:00:00.040000    0.000000\n",
       "0 days 00:00:00.030000  0 days 00:00:00.050000    0.000000\n",
       "0 days 00:00:00.040000  0 days 00:00:00.060000    0.000000\n",
       "                                                    ...   \n",
       "0 days 00:00:09.910000  0 days 00:00:09.930000    0.027243\n",
       "0 days 00:00:09.920000  0 days 00:00:09.940000    0.033315\n",
       "0 days 00:00:09.930000  0 days 00:00:09.950000    0.049151\n",
       "0 days 00:00:09.940000  0 days 00:00:09.960000    0.068909\n",
       "0 days 00:00:09.950000  0 days 00:00:10           0.077132\n",
       "Name: spectralFlux_sma3, Length: 996, dtype: float32"
      ]
     },
     "execution_count": 4,
     "metadata": {},
     "output_type": "execute_result"
    }
   ],
   "source": [
    "smile.process_signal(\n",
    "    signal,\n",
    "    sampling_rate\n",
    ")[\"spectralFlux_sma3\"]"
   ]
  },
  {
   "cell_type": "markdown",
   "id": "df2a338a",
   "metadata": {},
   "source": [
    "Extended Set - Frequency related parameters\n",
    "=============\n",
    "****************\n",
    "The parameters are the bandwidths for Formants 2 and 3. With PRAAT:"
   ]
  },
  {
   "cell_type": "code",
   "execution_count": 5,
   "id": "9bb09d51",
   "metadata": {},
   "outputs": [],
   "source": [
    "# Formant 2-3 bandwidth with PRAAT\n",
    "formants = call(sound, \"To Formant (burg)\", 0.0, 3, 5500, 0.025, 50)\n",
    "\n",
    "f2_bandwidth = call(formants, \"Get bandwidth at time\", 2, 25.0, 'Hertz', 'Linear')\n",
    "f3_bandwidth = call(formants, \"Get bandwidth at time\", 3, 25.0, 'Hertz', 'Linear')"
   ]
  },
  {
   "cell_type": "code",
   "execution_count": 6,
   "id": "61352ee7",
   "metadata": {},
   "outputs": [
    {
     "name": "stdout",
     "output_type": "stream",
     "text": [
      "start                   end                   \n",
      "0 days 00:00:00         0 days 00:00:00.020000      0.000000\n",
      "0 days 00:00:00.010000  0 days 00:00:00.030000      0.000000\n",
      "0 days 00:00:00.020000  0 days 00:00:00.040000      0.000000\n",
      "0 days 00:00:00.030000  0 days 00:00:00.050000      0.000000\n",
      "0 days 00:00:00.040000  0 days 00:00:00.060000      0.000000\n",
      "                                                     ...    \n",
      "0 days 00:00:09.910000  0 days 00:00:09.930000    441.069672\n",
      "0 days 00:00:09.920000  0 days 00:00:09.940000    470.490356\n",
      "0 days 00:00:09.930000  0 days 00:00:09.950000    489.509369\n",
      "0 days 00:00:09.940000  0 days 00:00:09.960000    773.565918\n",
      "0 days 00:00:09.950000  0 days 00:00:10           664.440491\n",
      "Name: F2bandwidth_sma3nz, Length: 996, dtype: float32\n",
      "\n",
      "\n",
      "start                   end                   \n",
      "0 days 00:00:00         0 days 00:00:00.020000       0.000000\n",
      "0 days 00:00:00.010000  0 days 00:00:00.030000       0.000000\n",
      "0 days 00:00:00.020000  0 days 00:00:00.040000       0.000000\n",
      "0 days 00:00:00.030000  0 days 00:00:00.050000       0.000000\n",
      "0 days 00:00:00.040000  0 days 00:00:00.060000       0.000000\n",
      "                                                     ...     \n",
      "0 days 00:00:09.910000  0 days 00:00:09.930000     479.254791\n",
      "0 days 00:00:09.920000  0 days 00:00:09.940000     517.813416\n",
      "0 days 00:00:09.930000  0 days 00:00:09.950000     499.798981\n",
      "0 days 00:00:09.940000  0 days 00:00:09.960000    1304.296875\n",
      "0 days 00:00:09.950000  0 days 00:00:10           1482.748657\n",
      "Name: F3bandwidth_sma3nz, Length: 996, dtype: float32\n"
     ]
    }
   ],
   "source": [
    "# Formant 2-3 bandwidth with OpenSmile\n",
    "\n",
    "print(smile.process_signal(\n",
    "    signal,\n",
    "    sampling_rate\n",
    ")[\"F2bandwidth_sma3nz\"])\n",
    "\n",
    "print(\"\\n\")\n",
    "\n",
    "print(smile.process_signal(\n",
    "    signal,\n",
    "    sampling_rate\n",
    ")[\"F3bandwidth_sma3nz\"])"
   ]
  }
 ],
 "metadata": {
  "kernelspec": {
   "display_name": "hazitek",
   "language": "python",
   "name": "hazitek"
  },
  "language_info": {
   "codemirror_mode": {
    "name": "ipython",
    "version": 3
   },
   "file_extension": ".py",
   "mimetype": "text/x-python",
   "name": "python",
   "nbconvert_exporter": "python",
   "pygments_lexer": "ipython3",
   "version": "3.10.6"
  }
 },
 "nbformat": 4,
 "nbformat_minor": 5
}
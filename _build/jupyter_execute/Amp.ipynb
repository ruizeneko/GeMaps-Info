{
 "cells": [
  {
   "cell_type": "markdown",
   "id": "139ce699",
   "metadata": {},
   "source": [
    "Energy/Amplitude related parameters\n",
    "=============\n",
    "****************"
   ]
  },
  {
   "cell_type": "markdown",
   "id": "06d1c760",
   "metadata": {},
   "source": [
    "Now, Energy/Amplitude related parameters are going to be explained. These parameters are:\n",
    "* Shimmer\n",
    "* Loudness\n",
    "* HNR\n",
    "\n",
    "Let us start with the shimmer"
   ]
  },
  {
   "cell_type": "markdown",
   "id": "8879ace4",
   "metadata": {},
   "source": [
    "Shimmer\n",
    "-------------\n",
    "****************\n",
    "The shimmer, closely related to the jitter, is the difference of the peak amplitudes of\n",
    "consecutive F0 periods. The relationship can be seen more clear in the next Figure:\n",
    "<img src=\"Jitter-Shimmer.png\" alt=\"drawing\" width=\"500\"/>\n",
    "\n",
    "It is, in GeMaps, computed as avarage of the relative peak amplitude differences (in dB). \n",
    "Because the phase of the pitch period segments found by the waveform matching algorithm is random, the maximum and minimum amplitude $(x_{max,n′}$ and $x_{min,n′}$) within each pitch period are identified. By analogy with jitter, there are 3 differents Shimmers that can be measured.\n",
    "\n",
    "Let us start with local period to period shimmer:"
   ]
  },
  {
   "cell_type": "markdown",
   "id": "b472dd3a",
   "metadata": {},
   "source": [
    "Local period to period shimmer is defined as:\n",
    "$$ S_{pp}(n') = |A(n') - A(n' - 1) | $$\n",
    "\n",
    "Here, the peak to peak amplitude difference is defined by: $A(n') = x_{max,n′} - x_{min,n′}$"
   ]
  },
  {
   "cell_type": "markdown",
   "id": "ad5e22ff",
   "metadata": {},
   "source": [
    "As for jitter, the period to period shimmer values are averaged over each 60 ms frame in order to synchronise the rate of this descriptor with the constant rate of all other short-time descriptors. The averaged, relative shimmer is referred to as Spp,rel. It is expressed as amplitude ratios, i. e., the per period amplitude values are normalised to the per frame average peak amplitude:\n",
    "\n",
    "$$ \\overline{S_{pp, rel}} =  \\frac{\\frac{1}{N'-1}\\sum_{n'=2}^{N'}S_{pp}(n')}{\\frac{1}{N}\\sum_{n'=1}^{N'}A(n')}$$\n",
    "\n",
    "Let us calculate it with PRAAT:"
   ]
  },
  {
   "cell_type": "code",
   "execution_count": 1,
   "id": "fa3f5ec1",
   "metadata": {},
   "outputs": [],
   "source": [
    "import os\n",
    "import parselmouth \n",
    "from parselmouth.praat import call\n",
    "import opensmile\n",
    "import audiofile\n",
    "\n",
    "# We load the audio into ParselMouth\n",
    "dir_audio = os.path.join(\"/home\", \"enekoehu\", \"Trabajo\", \"HAZITEK\", \"Documentos\", \"Emphasis\", \"sensación_enfado_1_5942331367283039919_1_46.wav\")\n",
    "sound = parselmouth.Sound(dir_audio)"
   ]
  },
  {
   "cell_type": "code",
   "execution_count": 2,
   "id": "fec5ee9d",
   "metadata": {},
   "outputs": [
    {
     "data": {
      "text/plain": [
       "0.28915390699510773"
      ]
     },
     "execution_count": 2,
     "metadata": {},
     "output_type": "execute_result"
    }
   ],
   "source": [
    "# Shimmer calculated in PRAAT\n",
    "min_pitch_f = 75\n",
    "max_pitch_f = 600\n",
    "pointProcess = call(sound, \"To PointProcess (periodic, cc)\", min_pitch_f, max_pitch_f)\n",
    "\n",
    "time_range_start = 9.92\n",
    "time_range_end = 9.94 # 0 if total=0\n",
    "\n",
    "shortest_period = 0.025\n",
    "longest_period = 0.025\n",
    "maximum_period_factor = 1.8\n",
    "maximum_amplitude_factor = 2.0\n",
    "\n",
    "localShimmer =  call([sound, pointProcess], \"Get shimmer (local)\", time_range_start, time_range_end, shortest_period, longest_period, maximum_period_factor, maximum_amplitude_factor)\n",
    "localShimmer"
   ]
  },
  {
   "cell_type": "code",
   "execution_count": 3,
   "id": "b5b6e1c8",
   "metadata": {},
   "outputs": [
    {
     "data": {
      "text/plain": [
       "start                   end                   \n",
       "0 days 00:00:00         0 days 00:00:00.020000    0.000000\n",
       "0 days 00:00:00.010000  0 days 00:00:00.030000    0.000000\n",
       "0 days 00:00:00.020000  0 days 00:00:00.040000    0.000000\n",
       "0 days 00:00:00.030000  0 days 00:00:00.050000    0.000000\n",
       "0 days 00:00:00.040000  0 days 00:00:00.060000    0.000000\n",
       "                                                    ...   \n",
       "0 days 00:00:09.910000  0 days 00:00:09.930000    0.620124\n",
       "0 days 00:00:09.920000  0 days 00:00:09.940000    0.528167\n",
       "0 days 00:00:09.930000  0 days 00:00:09.950000    0.704648\n",
       "0 days 00:00:09.940000  0 days 00:00:09.960000    0.430320\n",
       "0 days 00:00:09.950000  0 days 00:00:10           0.464016\n",
       "Name: shimmerLocaldB_sma3nz, Length: 996, dtype: float32"
      ]
     },
     "execution_count": 3,
     "metadata": {},
     "output_type": "execute_result"
    }
   ],
   "source": [
    "# OpenSMILE\n",
    "signal, sampling_rate = audiofile.read(\n",
    "    dir_audio,\n",
    "    duration=10,\n",
    "    always_2d=True,\n",
    ")\n",
    "smile = opensmile.Smile(\n",
    "    feature_set=opensmile.FeatureSet.GeMAPSv01b,\n",
    "    feature_level=opensmile.FeatureLevel.LowLevelDescriptors,\n",
    ")\n",
    "smile.process_signal(\n",
    "    signal,\n",
    "    sampling_rate\n",
    ")[\"shimmerLocaldB_sma3nz\"]"
   ]
  },
  {
   "cell_type": "markdown",
   "id": "06e72511",
   "metadata": {},
   "source": [
    "Loudness\n",
    "-------------\n",
    "****************\n",
    "Loudness, instead of signal energy/amplitude, is used to accouont for human's non-linear perception of noise (GeMaps definition: estimate of perceived signal intensity from an auditory spectrum). To represent it, an auditory spectrum as is applied in the Perceptual Linear Prediction (PLP) technique is adopted. Loudness is computed as the sum over all bands of the auditory spectrum.\n",
    "\n",
    "For PRAAT:"
   ]
  },
  {
   "cell_type": "code",
   "execution_count": 4,
   "id": "f0e1fcc1",
   "metadata": {},
   "outputs": [
    {
     "data": {
      "text/plain": [
       "8.067655425759645"
      ]
     },
     "execution_count": 4,
     "metadata": {},
     "output_type": "execute_result"
    }
   ],
   "source": [
    "# Loudness for PRAAT\n",
    "time_step = 0.01\n",
    "frecuency_resolution_bark = 0.1\n",
    "windows_length = 0.03\n",
    "forward_masking_time = 0.03\n",
    "\n",
    "cochleagram = call(sound, \"To Cochleagram\", time_step, frecuency_resolution_bark , windows_length , forward_masking_time)\n",
    "\n",
    "time = 9.91\n",
    "excitation = call(cochleagram, \"To Excitation (slice)\", time)\n",
    "loudness = call(excitation, \"Get loudness\")\n",
    "loudness"
   ]
  },
  {
   "cell_type": "code",
   "execution_count": 5,
   "id": "fc109afe",
   "metadata": {},
   "outputs": [
    {
     "data": {
      "text/plain": [
       "start                   end                   \n",
       "0 days 00:00:00         0 days 00:00:00.020000    0.001017\n",
       "0 days 00:00:00.010000  0 days 00:00:00.030000    0.001017\n",
       "0 days 00:00:00.020000  0 days 00:00:00.040000    0.001017\n",
       "0 days 00:00:00.030000  0 days 00:00:00.050000    0.001017\n",
       "0 days 00:00:00.040000  0 days 00:00:00.060000    0.001017\n",
       "                                                    ...   \n",
       "0 days 00:00:09.910000  0 days 00:00:09.930000    0.191413\n",
       "0 days 00:00:09.920000  0 days 00:00:09.940000    0.181684\n",
       "0 days 00:00:09.930000  0 days 00:00:09.950000    0.193715\n",
       "0 days 00:00:09.940000  0 days 00:00:09.960000    0.227966\n",
       "0 days 00:00:09.950000  0 days 00:00:10           0.265280\n",
       "Name: Loudness_sma3, Length: 996, dtype: float32"
      ]
     },
     "execution_count": 5,
     "metadata": {},
     "output_type": "execute_result"
    }
   ],
   "source": [
    "# Loudness for OpenSmile\n",
    "smile.process_signal(\n",
    "    signal,\n",
    "    sampling_rate\n",
    ")[\"Loudness_sma3\"]"
   ]
  },
  {
   "cell_type": "markdown",
   "id": "48f9748f",
   "metadata": {},
   "source": [
    "HNR\n",
    "-------------\n",
    "****************\n",
    "HNR or Harmonics-to-Noise Ratio is the relation of energy in harmonic component to energy in noise-like component.\n",
    "It is defined as: \n",
    "    \n",
    "$$ HNR_{acf, log} = 10 \\log_{10} \\left( \\frac{ACF_{\\tau_0}}{ACF_0 - ACF_{\\tau_0}} \\right) dB $$    \n",
    "\n",
    "In the previous expression, $ACF_{\\tau_0}$ is the amplitude of the autocorrelation peak at the fundamental period and $ACF_0$ is the 0-th ACF (autocorrelation function), equivalent to the quadratic frame energy. The HNR is floored to -100dB to avoid highly negative and varying values for low-energy noise.\n",
    "\n",
    "To calculate it in PRAAT:"
   ]
  },
  {
   "cell_type": "code",
   "execution_count": 6,
   "id": "2b655db4",
   "metadata": {},
   "outputs": [
    {
     "data": {
      "text/plain": [
       "nan"
      ]
     },
     "execution_count": 6,
     "metadata": {},
     "output_type": "execute_result"
    }
   ],
   "source": [
    "# HNR\n",
    "time_step = 0.02\n",
    "minimum_pitch = 30.0\n",
    "silence_threshold = 0.1\n",
    "periods_per_window = 1.0\n",
    "\n",
    "harmonicity = call(sound, \"To Harmonicity (cc)\", time_step , minimum_pitch, silence_threshold, periods_per_window)\n",
    "\n",
    "time_range_start = 9.92\n",
    "time_range_end = 9.94\n",
    "\n",
    "hnr = call(harmonicity, \"Get mean\", time_range_start, time_range_end)\n",
    "hnr"
   ]
  },
  {
   "cell_type": "code",
   "execution_count": 7,
   "id": "b606f4cd",
   "metadata": {},
   "outputs": [
    {
     "data": {
      "text/plain": [
       "start                   end                   \n",
       "0 days 00:00:00         0 days 00:00:00.020000    0.000000\n",
       "0 days 00:00:00.010000  0 days 00:00:00.030000    0.000000\n",
       "0 days 00:00:00.020000  0 days 00:00:00.040000    0.000000\n",
       "0 days 00:00:00.030000  0 days 00:00:00.050000    0.000000\n",
       "0 days 00:00:00.040000  0 days 00:00:00.060000    0.000000\n",
       "                                                    ...   \n",
       "0 days 00:00:09.910000  0 days 00:00:09.930000    7.167179\n",
       "0 days 00:00:09.920000  0 days 00:00:09.940000    5.740583\n",
       "0 days 00:00:09.930000  0 days 00:00:09.950000    4.979844\n",
       "0 days 00:00:09.940000  0 days 00:00:09.960000    6.221863\n",
       "0 days 00:00:09.950000  0 days 00:00:10           6.387264\n",
       "Name: HNRdBACF_sma3nz, Length: 996, dtype: float32"
      ]
     },
     "execution_count": 7,
     "metadata": {},
     "output_type": "execute_result"
    }
   ],
   "source": [
    "# HNR for OpenSmile\n",
    "smile.process_signal(\n",
    "    signal,\n",
    "    sampling_rate\n",
    ")[\"HNRdBACF_sma3nz\"]"
   ]
  }
 ],
 "metadata": {
  "kernelspec": {
   "display_name": "hazitek",
   "language": "python",
   "name": "hazitek"
  },
  "language_info": {
   "codemirror_mode": {
    "name": "ipython",
    "version": 3
   },
   "file_extension": ".py",
   "mimetype": "text/x-python",
   "name": "python",
   "nbconvert_exporter": "python",
   "pygments_lexer": "ipython3",
   "version": "3.10.6"
  }
 },
 "nbformat": 4,
 "nbformat_minor": 5
}
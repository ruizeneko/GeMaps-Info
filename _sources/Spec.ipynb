{
 "cells": [
  {
   "cell_type": "markdown",
   "id": "475f1241",
   "metadata": {},
   "source": [
    "Spectral parameters\n",
    "=============\n",
    "****************"
   ]
  },
  {
   "cell_type": "markdown",
   "id": "ebffdf04",
   "metadata": {},
   "source": [
    "Now, spectral parameters are going to be introduced. There are 6 parameters:\n",
    "* Alpha Ratio\n",
    "* Hammarberg Index\n",
    "* Spectral Slople 0-500 Hz and 500 - 1500 Hz\n",
    "* Formant 1, 2 and 4 relative energy\n",
    "* Harmonic difference H1-H2\n",
    "* Harmonic difference H1-H3"
   ]
  },
  {
   "cell_type": "markdown",
   "id": "9db93d20",
   "metadata": {},
   "source": [
    "Alpha ratio\n",
    "-------------\n",
    "****************\n",
    "The alpha ratio is defined as the ratio of the summed energy from 50 - 1000 Hz and 1 - 5 kHz, that is, between the energy in the low frequency region and in the high frequency region. It is defined as :\n",
    "\n",
    "$$ \\rho_{\\alpha} = \\frac{\\sum_{m=1}^{m_{1k}}X(m)}{\\sum_{m=m_{1k} + 1}^{M}X(m)} $$\n",
    "\n",
    "Here, $m_{1k}$ is the highest spectral bin index with $ f \\leq 1 kHz $. The alpha ratio is computed per frame (20 ms) and then, the functional mean and variance are applied to summarise it over segments of interest. To calculate it with PRAAT:"
   ]
  },
  {
   "cell_type": "code",
   "execution_count": 1,
   "id": "2430144a",
   "metadata": {},
   "outputs": [],
   "source": [
    "import os\n",
    "import parselmouth \n",
    "from parselmouth.praat import call\n",
    "import opensmile\n",
    "import audiofile\n",
    "\n",
    "# We load the audio into ParselMouth\n",
    "dir_audio = os.path.join(\"/home\", \"enekoehu\", \"Trabajo\", \"HAZITEK\", \"Documentos\", \"Emphasis\", \"sensación_enfado_1_5942331367283039919_1_46.wav\")\n",
    "sound = parselmouth.Sound(dir_audio)"
   ]
  },
  {
   "cell_type": "code",
   "execution_count": 2,
   "id": "58e4f227",
   "metadata": {},
   "outputs": [
    {
     "data": {
      "text/plain": [
       "-16.870859087312667"
      ]
     },
     "execution_count": 2,
     "metadata": {},
     "output_type": "execute_result"
    }
   ],
   "source": [
    "# Alpha Ratio with PRAAT\n",
    "bandwidth = 100.0\n",
    "lta = call(sound, \"To Ltas\", bandwidth)\n",
    "\n",
    "low_band_start = 50.0\n",
    "low_band_end = 1000.0\n",
    "\n",
    "high_band_start = 1000.0\n",
    "high_band_end = 5000.0\n",
    "\n",
    "averaging_method = \"energy\"\n",
    "\n",
    "alpha_rate = call(lta, \"Get slope\", low_band_start, low_band_end, high_band_start, high_band_end, averaging_method)\n",
    "alpha_rate"
   ]
  },
  {
   "cell_type": "code",
   "execution_count": 3,
   "id": "30e18cdd",
   "metadata": {},
   "outputs": [
    {
     "data": {
      "text/plain": [
       "start                   end                   \n",
       "0 days 00:00:00         0 days 00:00:00.020000     0.000000\n",
       "0 days 00:00:00.010000  0 days 00:00:00.030000     0.000000\n",
       "0 days 00:00:00.020000  0 days 00:00:00.040000     0.000000\n",
       "0 days 00:00:00.030000  0 days 00:00:00.050000     0.000000\n",
       "0 days 00:00:00.040000  0 days 00:00:00.060000     0.000000\n",
       "                                                    ...    \n",
       "0 days 00:00:09.910000  0 days 00:00:09.930000   -15.160774\n",
       "0 days 00:00:09.920000  0 days 00:00:09.940000   -14.742813\n",
       "0 days 00:00:09.930000  0 days 00:00:09.950000   -14.084218\n",
       "0 days 00:00:09.940000  0 days 00:00:09.960000   -11.262893\n",
       "0 days 00:00:09.950000  0 days 00:00:10           -9.677264\n",
       "Name: alphaRatio_sma3, Length: 996, dtype: float32"
      ]
     },
     "execution_count": 3,
     "metadata": {},
     "output_type": "execute_result"
    }
   ],
   "source": [
    "# Alpha Ratio with OpenSmile\n",
    "signal, sampling_rate = audiofile.read(\n",
    "    dir_audio,\n",
    "    duration=10,\n",
    "    always_2d=True,\n",
    ")\n",
    "smile = opensmile.Smile(\n",
    "    feature_set=opensmile.FeatureSet.GeMAPSv01b,\n",
    "    feature_level=opensmile.FeatureLevel.LowLevelDescriptors,\n",
    ")\n",
    "smile.process_signal(\n",
    "    signal,\n",
    "    sampling_rate\n",
    ")[\"alphaRatio_sma3\"]"
   ]
  },
  {
   "cell_type": "markdown",
   "id": "d453ff61",
   "metadata": {},
   "source": [
    "Hammarberg Index\n",
    "-------------\n",
    "****************\n",
    "Hammarberg Index is defined as the ratio of the strongest energy peak in the 0–2 kHz region to the strongest peak in the 2–5 kHz region. Hammarberg defined a fixed static pivot point of 2 kHz where the low and high frequency regions\n",
    "are separated. Formally, it is defined as: \n",
    "\n",
    "$$ \\eta =  \\frac{\\max_{m=1}^{m_{2k}}X(m)}{\\max_{m=m_{2k} + 1}^{M}X(m)} $$\n",
    "\n",
    "with X(m) being a magnitude spectrum with bins $m = 1..M$ , and where $m_{2k}$ is the highest spectral bin index where $f \\leq 2 kHz$ is still true. According to more recent findings, it could be beneficial to pick\n",
    "the pivot point dynamically based upon the speaker’s fundamental frequency. This is, however, on purpose not  onsidered here because it would break the strictly static nature of all the extraction methods of all the parameters suggested for this set."
   ]
  },
  {
   "cell_type": "code",
   "execution_count": 4,
   "id": "1343b23a",
   "metadata": {},
   "outputs": [
    {
     "data": {
      "text/plain": [
       "26.072048812236048"
      ]
     },
     "execution_count": 4,
     "metadata": {},
     "output_type": "execute_result"
    }
   ],
   "source": [
    "# Hammarberg Index with PRAAT\n",
    "f_first_range_start = 0.0\n",
    "f_first_range_end = 2000.0\n",
    "\n",
    "f_second_range_start = 2000.0\n",
    "f_second_range_end = 5000.0\n",
    "\n",
    "interpolation = \"None\"\n",
    "\n",
    "hammberger = call(lta, \"Get maximum\", f_first_range_start, f_first_range_end, interpolation) - call(lta, \"Get maximum\", f_second_range_start, f_second_range_end, interpolation)\n",
    "hammberger"
   ]
  },
  {
   "cell_type": "code",
   "execution_count": 5,
   "id": "ee13d106",
   "metadata": {},
   "outputs": [
    {
     "data": {
      "text/plain": [
       "start                   end                   \n",
       "0 days 00:00:00         0 days 00:00:00.020000     0.000000\n",
       "0 days 00:00:00.010000  0 days 00:00:00.030000     0.000000\n",
       "0 days 00:00:00.020000  0 days 00:00:00.040000     0.000000\n",
       "0 days 00:00:00.030000  0 days 00:00:00.050000     0.000000\n",
       "0 days 00:00:00.040000  0 days 00:00:00.060000     0.000000\n",
       "                                                    ...    \n",
       "0 days 00:00:09.910000  0 days 00:00:09.930000    18.257828\n",
       "0 days 00:00:09.920000  0 days 00:00:09.940000    18.681267\n",
       "0 days 00:00:09.930000  0 days 00:00:09.950000    18.049862\n",
       "0 days 00:00:09.940000  0 days 00:00:09.960000    14.437977\n",
       "0 days 00:00:09.950000  0 days 00:00:10           12.270829\n",
       "Name: hammarbergIndex_sma3, Length: 996, dtype: float32"
      ]
     },
     "execution_count": 5,
     "metadata": {},
     "output_type": "execute_result"
    }
   ],
   "source": [
    "# HNR for OpenSmile\n",
    "smile.process_signal(\n",
    "    signal,\n",
    "    sampling_rate\n",
    ")[\"hammarbergIndex_sma3\"]"
   ]
  },
  {
   "cell_type": "markdown",
   "id": "955e2291",
   "metadata": {},
   "source": [
    "Spectral Slople 0-500 Hz and 500 - 1500 Hz\n",
    "-------------\n",
    "****************\n",
    "They are defined as the linear regression slope of the logarithmic power spectrum within the two given bands.\n",
    "There is no direct way to calculate them on PRAAT."
   ]
  },
  {
   "cell_type": "code",
   "execution_count": 6,
   "id": "e0a503f0",
   "metadata": {},
   "outputs": [
    {
     "name": "stdout",
     "output_type": "stream",
     "text": [
      "start                   end                   \n",
      "0 days 00:00:00         0 days 00:00:00.020000    0.112000\n",
      "0 days 00:00:00.010000  0 days 00:00:00.030000    0.112000\n",
      "0 days 00:00:00.020000  0 days 00:00:00.040000    0.112000\n",
      "0 days 00:00:00.030000  0 days 00:00:00.050000    0.112000\n",
      "0 days 00:00:00.040000  0 days 00:00:00.060000    0.112000\n",
      "                                                    ...   \n",
      "0 days 00:00:09.910000  0 days 00:00:09.930000    0.053941\n",
      "0 days 00:00:09.920000  0 days 00:00:09.940000    0.057720\n",
      "0 days 00:00:09.930000  0 days 00:00:09.950000    0.049979\n",
      "0 days 00:00:09.940000  0 days 00:00:09.960000    0.052811\n",
      "0 days 00:00:09.950000  0 days 00:00:10           0.059375\n",
      "Name: slope0-500_sma3, Length: 996, dtype: float32\n"
     ]
    },
    {
     "data": {
      "text/plain": [
       "start                   end                   \n",
       "0 days 00:00:00         0 days 00:00:00.020000    0.076364\n",
       "0 days 00:00:00.010000  0 days 00:00:00.030000    0.076364\n",
       "0 days 00:00:00.020000  0 days 00:00:00.040000    0.076364\n",
       "0 days 00:00:00.030000  0 days 00:00:00.050000    0.076364\n",
       "0 days 00:00:00.040000  0 days 00:00:00.060000    0.076364\n",
       "                                                    ...   \n",
       "0 days 00:00:09.910000  0 days 00:00:09.930000    0.001017\n",
       "0 days 00:00:09.920000  0 days 00:00:09.940000    0.002503\n",
       "0 days 00:00:09.930000  0 days 00:00:09.950000   -0.005113\n",
       "0 days 00:00:09.940000  0 days 00:00:09.960000   -0.001944\n",
       "0 days 00:00:09.950000  0 days 00:00:10          -0.003055\n",
       "Name: slope500-1500_sma3, Length: 996, dtype: float32"
      ]
     },
     "execution_count": 6,
     "metadata": {},
     "output_type": "execute_result"
    }
   ],
   "source": [
    "# Sprectral Slopes for OpenSmile\n",
    "print(smile.process_signal(\n",
    "    signal,\n",
    "    sampling_rate\n",
    ")[\"slope0-500_sma3\"])\n",
    "smile.process_signal(\n",
    "    signal,\n",
    "    sampling_rate\n",
    ")[\"slope500-1500_sma3\"]"
   ]
  },
  {
   "cell_type": "markdown",
   "id": "e7a459b9",
   "metadata": {},
   "source": [
    "Formant 1, 2 and 3 relative energy\n",
    "-------------\n",
    "****************\n",
    "It is the ratio of the energy of the spectral harmonic peak at the first, second, third formant’s centre frequency to the energy of the spectral peak at $F_0$.  They are estimated as the amplitude of the spectral envelope at Fi in relation to the amplitude of the spectral F0 peak. More precisely, it is computed as the ratio of the amplitude of the highest F0 harmonic peak in the range $[0.8\\cdot Fi , 1.2\\cdot Fi]$ (Fi is the centre frequency of the first formant) to the amplitude of the F0 spectral peak. \n",
    "\n",
    "At OpenSmile:"
   ]
  },
  {
   "cell_type": "code",
   "execution_count": 7,
   "id": "9104ecb9",
   "metadata": {},
   "outputs": [
    {
     "name": "stdout",
     "output_type": "stream",
     "text": [
      "start                   end                   \n",
      "0 days 00:00:00         0 days 00:00:00.020000   -201.000000\n",
      "0 days 00:00:00.010000  0 days 00:00:00.030000   -201.000000\n",
      "0 days 00:00:00.020000  0 days 00:00:00.040000   -201.000000\n",
      "0 days 00:00:00.030000  0 days 00:00:00.050000   -201.000000\n",
      "0 days 00:00:00.040000  0 days 00:00:00.060000   -201.000000\n",
      "                                                     ...    \n",
      "0 days 00:00:09.910000  0 days 00:00:09.930000     -2.482361\n",
      "0 days 00:00:09.920000  0 days 00:00:09.940000     -3.311020\n",
      "0 days 00:00:09.930000  0 days 00:00:09.950000     -3.616858\n",
      "0 days 00:00:09.940000  0 days 00:00:09.960000     -4.303657\n",
      "0 days 00:00:09.950000  0 days 00:00:10            -4.707028\n",
      "Name: F1amplitudeLogRelF0_sma3nz, Length: 996, dtype: float32\n",
      "\n",
      "\n",
      "start                   end                   \n",
      "0 days 00:00:00         0 days 00:00:00.020000   -201.000000\n",
      "0 days 00:00:00.010000  0 days 00:00:00.030000   -201.000000\n",
      "0 days 00:00:00.020000  0 days 00:00:00.040000   -201.000000\n",
      "0 days 00:00:00.030000  0 days 00:00:00.050000   -201.000000\n",
      "0 days 00:00:00.040000  0 days 00:00:00.060000   -201.000000\n",
      "                                                     ...    \n",
      "0 days 00:00:09.910000  0 days 00:00:09.930000    -37.850979\n",
      "0 days 00:00:09.920000  0 days 00:00:09.940000    -42.216465\n",
      "0 days 00:00:09.930000  0 days 00:00:09.950000    -44.147903\n",
      "0 days 00:00:09.940000  0 days 00:00:09.960000    -37.114216\n",
      "0 days 00:00:09.950000  0 days 00:00:10           -37.535988\n",
      "Name: F2amplitudeLogRelF0_sma3nz, Length: 996, dtype: float32\n",
      "\n",
      "\n",
      "start                   end                   \n",
      "0 days 00:00:00         0 days 00:00:00.020000   -201.000000\n",
      "0 days 00:00:00.010000  0 days 00:00:00.030000   -201.000000\n",
      "0 days 00:00:00.020000  0 days 00:00:00.040000   -201.000000\n",
      "0 days 00:00:00.030000  0 days 00:00:00.050000   -201.000000\n",
      "0 days 00:00:00.040000  0 days 00:00:00.060000   -201.000000\n",
      "                                                     ...    \n",
      "0 days 00:00:09.910000  0 days 00:00:09.930000    -23.066179\n",
      "0 days 00:00:09.920000  0 days 00:00:09.940000    -23.004707\n",
      "0 days 00:00:09.930000  0 days 00:00:09.950000    -24.648905\n",
      "0 days 00:00:09.940000  0 days 00:00:09.960000    -18.783524\n",
      "0 days 00:00:09.950000  0 days 00:00:10           -18.828245\n",
      "Name: F3amplitudeLogRelF0_sma3nz, Length: 996, dtype: float32\n"
     ]
    }
   ],
   "source": [
    "print(smile.process_signal(\n",
    "    signal,\n",
    "    sampling_rate\n",
    ")[\"F1amplitudeLogRelF0_sma3nz\"])\n",
    "print(\"\\n\")\n",
    "print(smile.process_signal(\n",
    "    signal,\n",
    "    sampling_rate\n",
    ")[\"F2amplitudeLogRelF0_sma3nz\"])\n",
    "print(\"\\n\")\n",
    "\n",
    "print(smile.process_signal(\n",
    "    signal,\n",
    "    sampling_rate\n",
    ")[\"F3amplitudeLogRelF0_sma3nz\"])"
   ]
  },
  {
   "cell_type": "markdown",
   "id": "b273e363",
   "metadata": {},
   "source": [
    "Harmonic difference H1-H2\n",
    "-------------\n",
    "****************\n",
    "It is the ratio of energy of the first $F_0$ harmonic (H1) to the energy of the second $F_0$ harmonic (H2). They are computed from the amplitudes of $F_0$ harmonic peaks in the spectrum normalised by the amplitude of the $F_0$ spectral peak. In the proposed parameter set, in particular the ratios H1–H2, i. e., the ratio of the first to the second harmonic, and H1–A3, which is the ratio of the first harmonic to the third formant’s amplitude.\n",
    "\n",
    "At Praat:"
   ]
  },
  {
   "cell_type": "code",
   "execution_count": 11,
   "id": "6bb6b49b",
   "metadata": {},
   "outputs": [
    {
     "data": {
      "text/plain": [
       "-3.1652197149252785"
      ]
     },
     "execution_count": 11,
     "metadata": {},
     "output_type": "execute_result"
    }
   ],
   "source": [
    "# Harmonic difference H1-H2 in PRAAT\n",
    "bandwidth = 100.0\n",
    "lta = call(sound, \"To Ltas\", bandwidth)\n",
    "\n",
    "h1 = call(lta, \"Get value in bin\", 2)\n",
    "h2 = call(lta, \"Get value in bin\", 3)\n",
    "h1 - h2"
   ]
  },
  {
   "cell_type": "code",
   "execution_count": 12,
   "id": "6a1566be",
   "metadata": {},
   "outputs": [
    {
     "data": {
      "text/plain": [
       "start                   end                   \n",
       "0 days 00:00:00         0 days 00:00:00.020000     0.000000\n",
       "0 days 00:00:00.010000  0 days 00:00:00.030000     0.000000\n",
       "0 days 00:00:00.020000  0 days 00:00:00.040000     0.000000\n",
       "0 days 00:00:00.030000  0 days 00:00:00.050000     0.000000\n",
       "0 days 00:00:00.040000  0 days 00:00:00.060000     0.000000\n",
       "                                                    ...    \n",
       "0 days 00:00:09.910000  0 days 00:00:09.930000    22.522158\n",
       "0 days 00:00:09.920000  0 days 00:00:09.940000    23.546804\n",
       "0 days 00:00:09.930000  0 days 00:00:09.950000    23.924128\n",
       "0 days 00:00:09.940000  0 days 00:00:09.960000    20.111307\n",
       "0 days 00:00:09.950000  0 days 00:00:10           19.973495\n",
       "Name: logRelF0-H1-H2_sma3nz, Length: 996, dtype: float32"
      ]
     },
     "execution_count": 12,
     "metadata": {},
     "output_type": "execute_result"
    }
   ],
   "source": [
    "# Harmonic difference H1-H2 in OpenSmile\n",
    "smile.process_signal(\n",
    "    signal,\n",
    "    sampling_rate\n",
    ")[\"logRelF0-H1-H2_sma3nz\"]"
   ]
  },
  {
   "cell_type": "markdown",
   "id": "005afde9",
   "metadata": {},
   "source": [
    "Harmonic difference H1-A3\n",
    "-------------\n",
    "****************\n",
    "It is ratio of energy of the first $F_0$ harmonic (H1) to the energy of the highest harmonic in the third formant range (A3).\n",
    "\n",
    "At OpenSmile:"
   ]
  },
  {
   "cell_type": "code",
   "execution_count": 13,
   "id": "092bdcd9",
   "metadata": {},
   "outputs": [
    {
     "data": {
      "text/plain": [
       "start                   end                   \n",
       "0 days 00:00:00         0 days 00:00:00.020000     0.000000\n",
       "0 days 00:00:00.010000  0 days 00:00:00.030000     0.000000\n",
       "0 days 00:00:00.020000  0 days 00:00:00.040000     0.000000\n",
       "0 days 00:00:00.030000  0 days 00:00:00.050000     0.000000\n",
       "0 days 00:00:00.040000  0 days 00:00:00.060000     0.000000\n",
       "                                                    ...    \n",
       "0 days 00:00:09.910000  0 days 00:00:09.930000    20.583818\n",
       "0 days 00:00:09.920000  0 days 00:00:09.940000    19.693687\n",
       "0 days 00:00:09.930000  0 days 00:00:09.950000    21.032047\n",
       "0 days 00:00:09.940000  0 days 00:00:09.960000    14.479866\n",
       "0 days 00:00:09.950000  0 days 00:00:10           14.121217\n",
       "Name: logRelF0-H1-A3_sma3nz, Length: 996, dtype: float32"
      ]
     },
     "execution_count": 13,
     "metadata": {},
     "output_type": "execute_result"
    }
   ],
   "source": [
    "smile.process_signal(\n",
    "    signal,\n",
    "    sampling_rate\n",
    ")[\"logRelF0-H1-A3_sma3nz\"]"
   ]
  }
 ],
 "metadata": {
  "kernelspec": {
   "display_name": "hazitek",
   "language": "python",
   "name": "hazitek"
  },
  "language_info": {
   "codemirror_mode": {
    "name": "ipython",
    "version": 3
   },
   "file_extension": ".py",
   "mimetype": "text/x-python",
   "name": "python",
   "nbconvert_exporter": "python",
   "pygments_lexer": "ipython3",
   "version": "3.10.6"
  }
 },
 "nbformat": 4,
 "nbformat_minor": 5
}

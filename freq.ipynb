{
 "cells": [
  {
   "cell_type": "code",
   "execution_count": 1,
   "id": "e681bd8e",
   "metadata": {},
   "outputs": [],
   "source": [
    "import os\n",
    "import parselmouth \n",
    "from parselmouth.praat import call\n",
    "import opensmile\n",
    "import audiofile"
   ]
  },
  {
   "cell_type": "markdown",
   "id": "a5cb7973",
   "metadata": {},
   "source": [
    "Frequency related parameters\n",
    "=============\n",
    "****************"
   ]
  },
  {
   "cell_type": "markdown",
   "id": "08201c81",
   "metadata": {},
   "source": [
    "First, frequency related parameters are going to be explained. Those parameters are:\n",
    "* Pitch\n",
    "* Jitter\n",
    "* Formant 1, 2 and 3 frequency\n",
    "* Bandwidth of Formant 1\n",
    "\n",
    "NOTE: All the values obtained with Parselmouth have been compared (and checked) with the Desktop version (for Unix System) of PRAAT"
   ]
  },
  {
   "cell_type": "markdown",
   "id": "fbca5b79",
   "metadata": {},
   "source": [
    "Pitch\n",
    "-------------\n",
    "****************\n",
    "The pitch is the logarithmic fundamental frequency $F_0$ (lowerst frequency of a periodic waveform, $F_3$ would be $F_3 = 3 \\cdot F_0$) on a semitone frequency scale starting at 27.5 Hz (que es un semitone?). Therefore, it is highly related with the $F_0$ of a speech signal, which refers to the approximate frequency of the (quasi-)periodic structure of speech signal. \n",
    "\n",
    "The oscillation originates from the vocal folds, which oscillate in the airflow when appropriately tensed. The fundamental frequency is defined as the average number of oscillations per second and expressed in Hertz. \n",
    "\n",
    "Since the oscillation originates from an organic structure, it is not exactly periodic but contains significant fluctuations. In particular, amount of variation in period length and amplitude are known respectively as jitter and shimmer. Moreover, it changes constantly within the sentence and can be used for emphasis or for questions.\n",
    "\n",
    "However, the pitch and the $F_0$ are not the same, because the pitch is defined as our perception of fundamental frequency. Therefore, for complex sounds like speech, it can differ from $F_0$ due to overtones.\n",
    "\n",
    "In GeMaps (and therefore in PRAAT and openSMILE) is computed via sub-harmonic summation (SHS) in the spectral domain and further preprocessing is applied). Very simply, the can be dedined as the inverse of the legnth of a simple periode:\n",
    "$$ F_0 = \\frac{1}{T} $$\n",
    "\n",
    "Let us compute it:"
   ]
  },
  {
   "cell_type": "code",
   "execution_count": 2,
   "id": "e3818d54",
   "metadata": {},
   "outputs": [
    {
     "data": {
      "text/plain": [
       "178.91435089010068"
      ]
     },
     "execution_count": 2,
     "metadata": {},
     "output_type": "execute_result"
    }
   ],
   "source": [
    "# With Parselmouth (Python implementation of PRAAT)\n",
    "# We load the audio into ParselMouth\n",
    "dir_audio = os.path.join(\"/home\", \"enekoehu\", \"Trabajo\", \"HAZITEK\", \"Documentos\", \"Emphasis\", \"sensación_enfado_1_5942331367283039919_1_46.wav\")\n",
    "sound = parselmouth.Sound(dir_audio)\n",
    "\n",
    "pitch = sound.to_pitch(time_step = 0.02, pitch_floor=27.5, pitch_ceiling=600.0)\n",
    "pitch.get_value_at_time(9.91)"
   ]
  },
  {
   "cell_type": "markdown",
   "id": "c7334540",
   "metadata": {},
   "source": [
    "Therefore, the pitch at $t = 14s$ is $167.52 Hz$. For the calculation, a time_step of 0.001s is taken, and only frequency values between 75 and 600 Hz are taken into account.\n",
    "\n",
    "For openSMILE:"
   ]
  },
  {
   "cell_type": "code",
   "execution_count": 3,
   "id": "080d821a",
   "metadata": {},
   "outputs": [
    {
     "data": {
      "text/plain": [
       "start                   end                   \n",
       "0 days 00:00:00         0 days 00:00:00.020000     0.000000\n",
       "0 days 00:00:00.010000  0 days 00:00:00.030000     0.000000\n",
       "0 days 00:00:00.020000  0 days 00:00:00.040000     0.000000\n",
       "0 days 00:00:00.030000  0 days 00:00:00.050000     0.000000\n",
       "0 days 00:00:00.040000  0 days 00:00:00.060000     0.000000\n",
       "                                                    ...    \n",
       "0 days 00:00:09.910000  0 days 00:00:09.930000    32.997173\n",
       "0 days 00:00:09.920000  0 days 00:00:09.940000    33.207516\n",
       "0 days 00:00:09.930000  0 days 00:00:09.950000    33.357105\n",
       "0 days 00:00:09.940000  0 days 00:00:09.960000    34.546413\n",
       "0 days 00:00:09.950000  0 days 00:00:10           34.701092\n",
       "Name: F0semitoneFrom27.5Hz_sma3nz, Length: 996, dtype: float32"
      ]
     },
     "execution_count": 3,
     "metadata": {},
     "output_type": "execute_result"
    }
   ],
   "source": [
    "signal, sampling_rate = audiofile.read(\n",
    "    dir_audio,\n",
    "    duration=10,\n",
    "    always_2d=True,\n",
    ")\n",
    "smile = opensmile.Smile(\n",
    "    feature_set=opensmile.FeatureSet.GeMAPSv01b,\n",
    "    feature_level=opensmile.FeatureLevel.LowLevelDescriptors,\n",
    ")\n",
    "smile.process_signal(\n",
    "    signal,\n",
    "    sampling_rate\n",
    ")[\"F0semitoneFrom27.5Hz_sma3nz\"]"
   ]
  },
  {
   "cell_type": "markdown",
   "id": "51c0a585",
   "metadata": {},
   "source": [
    "In openSMILE, 20 ms time steps are taken into account and, as it can be seen, the results are quite different."
   ]
  },
  {
   "cell_type": "markdown",
   "id": "6729e174",
   "metadata": {},
   "source": [
    "Jitter\n",
    "-------------\n",
    "****************\n",
    "The jitter is the deviations in individual consecutive $F_0$ period length. Therefore, \n",
    "it can be defined as a variation in the (speech) signal frequency. All natural speech contains some level of jitter, \n",
    "but measuring it is a common way to detect voice pathologies. It can be detected easier from long, sustained vowels\n",
    "and has its origin in the fact that vocal fold oscilattion is not exactlu period. In the GeMaps paper, 3 different\n",
    "Jitters are presented: absolute local jitter, average local jitter and average relative jitter. "
   ]
  },
  {
   "cell_type": "markdown",
   "id": "7c6dac96",
   "metadata": {},
   "source": [
    "The absolute local jitter is the difference between two consecutive periods, i.e., \n",
    "\n",
    "$$ J_{pp}(n') = |T_{0}(n') - T_0(n'-1)| $$\n",
    "\n",
    "This definition yields one value for every pitch period. To obtain a single jitter value per frame for N' local pitch perdios within one analysis frame, we compute the average jitter:\n",
    "\n",
    "$$ \\overline{J_{pp}(n')} = \\frac{1}{N' - 1}\\sum_{n'=2}^{N'}J_{pp}(n') $$\n",
    "\n",
    "Lastly, to make the jitter not dependant of the pitch period length, we scale it by the avarage pitch period length, obtaining the average relative jitter:\n",
    "\n",
    "$$ \\overline{J_{pp, rel}} = \\frac{\\overline{J_{pp}(n')}}{\\frac{1}{N'}\\sum_{n'=1}^{N'}T_0(n')} $$"
   ]
  },
  {
   "cell_type": "code",
   "execution_count": 4,
   "id": "35dd1ff7",
   "metadata": {},
   "outputs": [
    {
     "data": {
      "text/plain": [
       "0.018755528968526735"
      ]
     },
     "execution_count": 4,
     "metadata": {},
     "output_type": "execute_result"
    }
   ],
   "source": [
    "# To obtain it with Praat\n",
    "max_pitch_f = 600\n",
    "min_pitch_f = 27.5\n",
    "pointProcess = call(sound, \"To PointProcess (periodic, cc)\",min_pitch_f, max_pitch_f)\n",
    "\n",
    "time_range_start = 9.92\n",
    "time_range_end = 9.94 # 0 if total=0\n",
    "shortest_period = 0.02\n",
    "longest_period = 0.02 \n",
    "maximum_period_factor = 1.3\n",
    "\n",
    "localJitter = call(pointProcess, \"Get jitter (local)\", time_range_start, time_range_end, shortest_period, longest_period, maximum_period_factor)\n",
    "localJitter"
   ]
  },
  {
   "cell_type": "code",
   "execution_count": 5,
   "id": "983c69a7",
   "metadata": {},
   "outputs": [
    {
     "data": {
      "text/plain": [
       "start                   end                   \n",
       "0 days 00:00:00         0 days 00:00:00.020000    0.000000\n",
       "0 days 00:00:00.010000  0 days 00:00:00.030000    0.000000\n",
       "0 days 00:00:00.020000  0 days 00:00:00.040000    0.000000\n",
       "0 days 00:00:00.030000  0 days 00:00:00.050000    0.000000\n",
       "0 days 00:00:00.040000  0 days 00:00:00.060000    0.000000\n",
       "                                                    ...   \n",
       "0 days 00:00:09.910000  0 days 00:00:09.930000    0.011538\n",
       "0 days 00:00:09.920000  0 days 00:00:09.940000    0.014664\n",
       "0 days 00:00:09.930000  0 days 00:00:09.950000    0.014700\n",
       "0 days 00:00:09.940000  0 days 00:00:09.960000    0.035310\n",
       "0 days 00:00:09.950000  0 days 00:00:10           0.044278\n",
       "Name: jitterLocal_sma3nz, Length: 996, dtype: float32"
      ]
     },
     "execution_count": 5,
     "metadata": {},
     "output_type": "execute_result"
    }
   ],
   "source": [
    "# With OpenSmile\n",
    "smile.process_signal(\n",
    "    signal,\n",
    "    sampling_rate\n",
    ")[\"jitterLocal_sma3nz\"]"
   ]
  },
  {
   "cell_type": "markdown",
   "id": "de486685",
   "metadata": {},
   "source": [
    "Formant 1, 2, and 3 frequency\n",
    "-------------\n",
    "****************\n",
    "Centre frequency of the first, second and third formants. "
   ]
  },
  {
   "cell_type": "code",
   "execution_count": 6,
   "id": "cab33781",
   "metadata": {},
   "outputs": [
    {
     "name": "stdout",
     "output_type": "stream",
     "text": [
      "349.1746510494882\n",
      "1918.7210151099382\n",
      "2884.104320142441\n"
     ]
    }
   ],
   "source": [
    "# Obtain them with PRAAT\n",
    "\n",
    "formants = call(sound, \"To Formant (burg)\", 0.0, 3, 5500, 0.02, 50)\n",
    "#formants= call(sound, \"To Formant (burg)\", TIME_STEP, NUMBER_OF_FORMANTS, MAXIMUM_FORMANT ( 5500 = ADULT FEMALE), WINDOWS_LENGTH, PRE_EMPHASIS_FROM)\n",
    "\n",
    "f1 = call(formants, \"Get value at time\", 1, 9.91, 'Hertz', 'Linear')\n",
    "f2 = call(formants, \"Get value at time\", 2, 9.91, 'Hertz', 'Linear')\n",
    "f3 = call(formants, \"Get value at time\", 3, 9.91, 'Hertz', 'Linear')\n",
    "#fx= call(formants, \"XXXXXXXXXXXXXXXXX\", formant_number, time(s), unit(Hertz vs. bark), \"interpolation\")\n",
    "print(f1)\n",
    "print(f2)\n",
    "print(f3)"
   ]
  },
  {
   "cell_type": "code",
   "execution_count": 7,
   "id": "6c66e57b",
   "metadata": {},
   "outputs": [
    {
     "name": "stdout",
     "output_type": "stream",
     "text": [
      "start                   end                   \n",
      "0 days 00:00:00         0 days 00:00:00.020000      0.000000\n",
      "0 days 00:00:00.010000  0 days 00:00:00.030000      0.000000\n",
      "0 days 00:00:00.020000  0 days 00:00:00.040000      0.000000\n",
      "0 days 00:00:00.030000  0 days 00:00:00.050000      0.000000\n",
      "0 days 00:00:00.040000  0 days 00:00:00.060000      0.000000\n",
      "                                                     ...    \n",
      "0 days 00:00:09.910000  0 days 00:00:09.930000    350.368500\n",
      "0 days 00:00:09.920000  0 days 00:00:09.940000    345.129486\n",
      "0 days 00:00:09.930000  0 days 00:00:09.950000    337.429810\n",
      "0 days 00:00:09.940000  0 days 00:00:09.960000    362.909180\n",
      "0 days 00:00:09.950000  0 days 00:00:10           370.095856\n",
      "Name: F1frequency_sma3nz, Length: 996, dtype: float32\n",
      "start                   end                   \n",
      "0 days 00:00:00         0 days 00:00:00.020000       0.000000\n",
      "0 days 00:00:00.010000  0 days 00:00:00.030000       0.000000\n",
      "0 days 00:00:00.020000  0 days 00:00:00.040000       0.000000\n",
      "0 days 00:00:00.030000  0 days 00:00:00.050000       0.000000\n",
      "0 days 00:00:00.040000  0 days 00:00:00.060000       0.000000\n",
      "                                                     ...     \n",
      "0 days 00:00:09.910000  0 days 00:00:09.930000    1495.355103\n",
      "0 days 00:00:09.920000  0 days 00:00:09.940000    1500.416016\n",
      "0 days 00:00:09.930000  0 days 00:00:09.950000    1510.627930\n",
      "0 days 00:00:09.940000  0 days 00:00:09.960000    1607.413452\n",
      "0 days 00:00:09.950000  0 days 00:00:10           1697.961548\n",
      "Name: F2frequency_sma3nz, Length: 996, dtype: float32\n",
      "start                   end                   \n",
      "0 days 00:00:00         0 days 00:00:00.020000       0.000000\n",
      "0 days 00:00:00.010000  0 days 00:00:00.030000       0.000000\n",
      "0 days 00:00:00.020000  0 days 00:00:00.040000       0.000000\n",
      "0 days 00:00:00.030000  0 days 00:00:00.050000       0.000000\n",
      "0 days 00:00:00.040000  0 days 00:00:00.060000       0.000000\n",
      "                                                     ...     \n",
      "0 days 00:00:09.910000  0 days 00:00:09.930000    2567.866211\n",
      "0 days 00:00:09.920000  0 days 00:00:09.940000    2554.605469\n",
      "0 days 00:00:09.930000  0 days 00:00:09.950000    2556.752197\n",
      "0 days 00:00:09.940000  0 days 00:00:09.960000    2252.661865\n",
      "0 days 00:00:09.950000  0 days 00:00:10           2228.766602\n",
      "Name: F3frequency_sma3nz, Length: 996, dtype: float32\n"
     ]
    }
   ],
   "source": [
    "# The same with OpenSmile\n",
    "print(smile.process_signal(\n",
    "    signal,\n",
    "    sampling_rate\n",
    ")[\"F1frequency_sma3nz\"])\n",
    "\n",
    "print(smile.process_signal(\n",
    "    signal,\n",
    "    sampling_rate\n",
    ")[\"F2frequency_sma3nz\"])\n",
    "\n",
    "print(smile.process_signal(\n",
    "    signal,\n",
    "    sampling_rate\n",
    ")[\"F3frequency_sma3nz\"])"
   ]
  },
  {
   "cell_type": "markdown",
   "id": "c34f6b1d",
   "metadata": {},
   "source": [
    "Bandwidth of Formant 1\n",
    "-------------\n",
    "****************\n",
    "The bandwidth of the first formant"
   ]
  },
  {
   "cell_type": "code",
   "execution_count": 8,
   "id": "b32a6ec3",
   "metadata": {},
   "outputs": [
    {
     "data": {
      "text/plain": [
       "311.0145332999822"
      ]
     },
     "execution_count": 8,
     "metadata": {},
     "output_type": "execute_result"
    }
   ],
   "source": [
    "# Obtain it with PRAAT:\n",
    "f1_bandwidth = call(formants, \"Get bandwidth at time\", 1, 9.91, 'Hertz', 'Linear')\n",
    "f1_bandwidth"
   ]
  },
  {
   "cell_type": "code",
   "execution_count": 9,
   "id": "276e4cb3",
   "metadata": {},
   "outputs": [
    {
     "name": "stdout",
     "output_type": "stream",
     "text": [
      "start                   end                   \n",
      "0 days 00:00:00         0 days 00:00:00.020000       0.000000\n",
      "0 days 00:00:00.010000  0 days 00:00:00.030000       0.000000\n",
      "0 days 00:00:00.020000  0 days 00:00:00.040000       0.000000\n",
      "0 days 00:00:00.030000  0 days 00:00:00.050000       0.000000\n",
      "0 days 00:00:00.040000  0 days 00:00:00.060000       0.000000\n",
      "                                                     ...     \n",
      "0 days 00:00:09.910000  0 days 00:00:09.930000    1025.568970\n",
      "0 days 00:00:09.920000  0 days 00:00:09.940000    1062.942017\n",
      "0 days 00:00:09.930000  0 days 00:00:09.950000    1111.029785\n",
      "0 days 00:00:09.940000  0 days 00:00:09.960000    1193.927246\n",
      "0 days 00:00:09.950000  0 days 00:00:10           1129.574463\n",
      "Name: F1bandwidth_sma3nz, Length: 996, dtype: float32\n"
     ]
    }
   ],
   "source": [
    "# The same with OpenSmile\n",
    "print(smile.process_signal(\n",
    "    signal,\n",
    "    sampling_rate\n",
    ")[\"F1bandwidth_sma3nz\"])"
   ]
  }
 ],
 "metadata": {
  "kernelspec": {
   "display_name": "hazitek",
   "language": "python",
   "name": "hazitek"
  },
  "language_info": {
   "codemirror_mode": {
    "name": "ipython",
    "version": 3
   },
   "file_extension": ".py",
   "mimetype": "text/x-python",
   "name": "python",
   "nbconvert_exporter": "python",
   "pygments_lexer": "ipython3",
   "version": "3.10.6"
  }
 },
 "nbformat": 4,
 "nbformat_minor": 5
}
